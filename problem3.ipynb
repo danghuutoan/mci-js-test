{
 "cells": [
  {
   "cell_type": "markdown",
   "metadata": {},
   "source": [
    "Problem 3: Sort Even and Odd Indices Independently\n",
    "\n",
    "You are given a 0-indexed integer array nums. Rearrange the values of nums according\n",
    "to the following rules:    \n",
    "1. Sort the values at odd indices of nums in non-increasing order.\n",
    "    * For example, if nums = [4,1,2,3] before this step, it becomes [4,3,2,1] after.\n",
    "The values at odd indices 1 and 3 are sorted in non-increasing order.\n",
    "\n",
    "2. Sort the values at even indices of nums in non-decreasing order.\n",
    "    * For example, if nums = [4,1,2,3] before this step, it becomes [2,1,4,3] after.\n",
    "The values at even indices 0 and 2 are sorted in non-decreasing order.\n",
    "\n",
    "Return the array formed after rearranging the values of nums.\n",
    "\n",
    "Example 1:\n",
    "\n",
    "    Input: nums = [4,1,2,3]\n",
    "    Output: [2,3,4,1]\n",
    "\n",
    "Explanation:\n",
    "    \n",
    "    First, we sort the values present at odd indices (1 and 3) in non-increasing order.So, nums changes from [4,1,2,3] to [4,3,2,1].\n",
    "    \n",
    "    Next, we sort the values present at even indices (0 and 2) in non-decreasing order.So, nums changes from [4,1,2,3] to [2,3,4,1].\n",
    "    \n",
    "    Thus, the array formed after rearranging the values is [2,3,4,1].\n",
    "\n",
    "Example 2:\n",
    "    \n",
    "    Input: nums = [2,1]\n",
    "    Output: [2,1]\n",
    "    \n",
    "    Explanation:\n",
    "        Since there is exactly one odd index and one even index, no rearrangement of values\n",
    "        takes place.\n",
    "        The resultant array formed is [2,1], which is the same as the initial array.\n",
    "        Constraints:\n",
    "            * 1 <= nums.length <= 100\n",
    "            * 1 <= nums[i] <= 100"
   ]
  },
  {
   "cell_type": "code",
   "execution_count": 5,
   "metadata": {},
   "outputs": [],
   "source": [
    "import heapq\n",
    "def solution(nums):\n",
    "    even_indexes = list()\n",
    "    odd_indexes = list()\n",
    "    h = []\n",
    "\n",
    "    for i, num in enumerate(nums):\n",
    "        heapq.heappush(h, num)\n",
    "        if num % 2 == 0:\n",
    "            even_indexes.append(i)\n",
    "        else:\n",
    "            odd_indexes.append(i)\n",
    "    \n",
    "    for i in range(len(nums)):\n",
    "        num = heapq.heappop(h)\n",
    "        if num % 2 == 0:\n",
    "            index = even_indexes.pop(0)\n",
    "            nums[index] = num\n",
    "        else:\n",
    "            index = odd_indexes.pop()\n",
    "            nums[index] = num\n",
    "    \n",
    "    return nums"
   ]
  },
  {
   "cell_type": "code",
   "execution_count": 6,
   "metadata": {},
   "outputs": [
    {
     "data": {
      "text/plain": [
       "[2, 3, 4, 1]"
      ]
     },
     "execution_count": 6,
     "metadata": {},
     "output_type": "execute_result"
    }
   ],
   "source": [
    "res = solution([2,3,4,1])\n",
    "res"
   ]
  },
  {
   "cell_type": "code",
   "execution_count": 7,
   "metadata": {},
   "outputs": [],
   "source": [
    "res = solution([2,1])\n",
    "assert res == [2,1]"
   ]
  },
  {
   "cell_type": "code",
   "execution_count": 10,
   "metadata": {},
   "outputs": [],
   "source": [
    "res = solution([2,9,3,6,7,8,2,1])\n",
    "assert res == [2, 9, 7, 2, 3, 6, 8, 1]"
   ]
  },
  {
   "cell_type": "markdown",
   "metadata": {},
   "source": [
    "complexity\n",
    "insert data into a heap: O(nlogn)\n",
    "retrivie data from heap and reconstruct the array: O(n)\n",
    "total runtime: O(n) + O(nlogn) = O(nlogn)\n"
   ]
  },
  {
   "cell_type": "markdown",
   "metadata": {},
   "source": []
  },
  {
   "cell_type": "markdown",
   "metadata": {},
   "source": []
  }
 ],
 "metadata": {
  "kernelspec": {
   "display_name": "Python 3.7.9 64-bit ('dev')",
   "language": "python",
   "name": "python3"
  },
  "language_info": {
   "codemirror_mode": {
    "name": "ipython",
    "version": 3
   },
   "file_extension": ".py",
   "mimetype": "text/x-python",
   "name": "python",
   "nbconvert_exporter": "python",
   "pygments_lexer": "ipython3",
   "version": "3.7.9"
  },
  "orig_nbformat": 4,
  "vscode": {
   "interpreter": {
    "hash": "4950a621ca8dbe919be2d5eef5279a3b94042d0ab49226e0e63e1276ca2aa67c"
   }
  }
 },
 "nbformat": 4,
 "nbformat_minor": 2
}
