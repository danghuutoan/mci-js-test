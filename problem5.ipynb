{
 "cells": [
  {
   "cell_type": "markdown",
   "metadata": {},
   "source": [
    "A shop is selling candies at a discount. For every two candies sold, the shop gives\n",
    "a third candy for free.\n",
    "\n",
    "The customer can choose any candy to take away for free as long as the cost of the\n",
    "chosen candy is less than or equal to the minimum cost of the two candies bought.\n",
    "\n",
    "* For example, if there are 4 candies with costs 1, 2, 3, and 4, and the customer buys\n",
    "candies with costs 2 and 3, they can take the candy with cost 1 for free, but not the\n",
    "candy with cost 4.\n",
    "\n",
    "\n",
    "Given a 0-indexed integer array cost, where cost[i] denotes the cost of the i-th candy,\n",
    "\n",
    "return the minimum cost of buying all the candies.\n",
    "\n",
    "Example 1:\n",
    "\n",
    "Input: cost = [1,2,3]\n",
    "Output: 5\n",
    "\n",
    "Explanation: We buy the candies with costs 2 and 3, and take the candy with cost 1 for\n",
    "free.\n",
    "\n",
    "The total cost of buying all candies is 2 + 3 = 5. This is the only way we can buy the\n",
    "candies.\n",
    "Note that we cannot buy candies with costs 1 and 3, and then take the candy with cost 2\n",
    "for free.\n",
    "The cost of the free candy has to be less than or equal to the minimum cost of the\n",
    "purchased candies.\n",
    "\n",
    "Example 2:\n",
    "\n",
    "Input: cost = [6,5,7,9,2,2]\n",
    "Output: 23\n",
    "\n",
    "Explanation: The way in which we can get the minimum cost is described below:\n",
    "\n",
    "- Buy candies with costs 9 and 7\n",
    "- Take the candy with cost 6 for free\n",
    "- We buy candies with costs 5 and 2\n",
    "- Take the last remaining candy with cost 2 for free\n",
    "\n",
    "Hence, the minimum cost to buy all candies is 9 + 7 + 5 + 2 = 23.\n",
    "\n",
    "Example 3:\n",
    "\n",
    "Input: cost = [5,5]\n",
    "Output: 10\n",
    "\n",
    "Explanation: Since there are only 2 candies, we buy both of them. There is not a third\n",
    "candy we can take for free.\n",
    "Hence, the minimum cost to buy all candies is 5 + 5 = 10.\n",
    "\n",
    "Constraints:\n",
    "\n",
    "    * 1 <= cost.length <= 100\n",
    "    * 1 <= cost[i] <= 100"
   ]
  },
  {
   "cell_type": "code",
   "execution_count": 23,
   "metadata": {},
   "outputs": [],
   "source": [
    "import heapq\n",
    "\n",
    "def solution(costs):\n",
    "    tmp = []\n",
    "    for cost in costs:\n",
    "            \n",
    "        if len(tmp) == 3:\n",
    "            last_free = heapq.heappop(tmp)\n",
    "        \n",
    "        heapq.heappush(tmp, cost)\n",
    "        print(tmp)\n",
    "    return 1"
   ]
  },
  {
   "cell_type": "code",
   "execution_count": 24,
   "metadata": {},
   "outputs": [
    {
     "name": "stdout",
     "output_type": "stream",
     "text": [
      "[6]\n",
      "[5, 6]\n",
      "[5, 6, 7]\n",
      "[5, 6, 7, 9]\n",
      "[2, 5, 7, 9, 6]\n",
      "[2, 5, 2, 9, 6, 7]\n"
     ]
    },
    {
     "ename": "AssertionError",
     "evalue": "",
     "output_type": "error",
     "traceback": [
      "\u001b[0;31m---------------------------------------------------------------------------\u001b[0m",
      "\u001b[0;31mAssertionError\u001b[0m                            Traceback (most recent call last)",
      "\u001b[0;32m/var/folders/qy/6rs6bm8173gcvzpmgrmlxp300000gn/T/ipykernel_90583/3827310754.py\u001b[0m in \u001b[0;36m<module>\u001b[0;34m\u001b[0m\n\u001b[0;32m----> 1\u001b[0;31m \u001b[0;32massert\u001b[0m \u001b[0msolution\u001b[0m\u001b[0;34m(\u001b[0m\u001b[0;34m[\u001b[0m\u001b[0;36m6\u001b[0m\u001b[0;34m,\u001b[0m\u001b[0;36m5\u001b[0m\u001b[0;34m,\u001b[0m\u001b[0;36m7\u001b[0m\u001b[0;34m,\u001b[0m\u001b[0;36m9\u001b[0m\u001b[0;34m,\u001b[0m\u001b[0;36m2\u001b[0m\u001b[0;34m,\u001b[0m\u001b[0;36m2\u001b[0m\u001b[0;34m]\u001b[0m\u001b[0;34m)\u001b[0m \u001b[0;34m==\u001b[0m \u001b[0;36m23\u001b[0m\u001b[0;34m\u001b[0m\u001b[0;34m\u001b[0m\u001b[0m\n\u001b[0m",
      "\u001b[0;31mAssertionError\u001b[0m: "
     ]
    }
   ],
   "source": [
    "assert solution([6,5,7,9,2,2]) == 23"
   ]
  },
  {
   "cell_type": "code",
   "execution_count": 21,
   "metadata": {},
   "outputs": [],
   "source": [
    "assert solution([1,2,3]) == 5"
   ]
  },
  {
   "cell_type": "code",
   "execution_count": 22,
   "metadata": {},
   "outputs": [],
   "source": [
    "assert solution([5,5]) == 10"
   ]
  }
 ],
 "metadata": {
  "kernelspec": {
   "display_name": "Python 3.7.9 64-bit ('dev')",
   "language": "python",
   "name": "python3"
  },
  "language_info": {
   "codemirror_mode": {
    "name": "ipython",
    "version": 3
   },
   "file_extension": ".py",
   "mimetype": "text/x-python",
   "name": "python",
   "nbconvert_exporter": "python",
   "pygments_lexer": "ipython3",
   "version": "3.7.9"
  },
  "orig_nbformat": 4,
  "vscode": {
   "interpreter": {
    "hash": "4950a621ca8dbe919be2d5eef5279a3b94042d0ab49226e0e63e1276ca2aa67c"
   }
  }
 },
 "nbformat": 4,
 "nbformat_minor": 2
}
