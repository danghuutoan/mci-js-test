{
 "cells": [
  {
   "cell_type": "markdown",
   "metadata": {},
   "source": [
    "A shop is selling candies at a discount. For every two candies sold, the shop gives\n",
    "a third candy for free.\n",
    "\n",
    "The customer can choose any candy to take away for free as long as the cost of the\n",
    "chosen candy is less than or equal to the minimum cost of the two candies bought.\n",
    "\n",
    "* For example, if there are 4 candies with costs 1, 2, 3, and 4, and the customer buys\n",
    "candies with costs 2 and 3, they can take the candy with cost 1 for free, but not the\n",
    "candy with cost 4.\n",
    "\n",
    "\n",
    "Given a 0-indexed integer array cost, where cost[i] denotes the cost of the i-th candy,\n",
    "\n",
    "return the minimum cost of buying all the candies.\n",
    "\n",
    "Example 1:\n",
    "\n",
    "Input: cost = [1,2,3]\n",
    "Output: 5\n",
    "\n",
    "Explanation: We buy the candies with costs 2 and 3, and take the candy with cost 1 for\n",
    "free.\n",
    "\n",
    "The total cost of buying all candies is 2 + 3 = 5. This is the only way we can buy the\n",
    "candies.\n",
    "Note that we cannot buy candies with costs 1 and 3, and then take the candy with cost 2\n",
    "for free.\n",
    "The cost of the free candy has to be less than or equal to the minimum cost of the\n",
    "purchased candies.\n",
    "\n",
    "Example 2:\n",
    "\n",
    "Input: cost = [6,5,7,9,2,2]\n",
    "Output: 23\n",
    "\n",
    "Explanation: The way in which we can get the minimum cost is described below:\n",
    "\n",
    "- Buy candies with costs 9 and 7\n",
    "- Take the candy with cost 6 for free\n",
    "- We buy candies with costs 5 and 2\n",
    "- Take the last remaining candy with cost 2 for free\n",
    "\n",
    "Hence, the minimum cost to buy all candies is 9 + 7 + 5 + 2 = 23.\n",
    "\n",
    "Example 3:\n",
    "\n",
    "Input: cost = [5,5]\n",
    "Output: 10\n",
    "\n",
    "Explanation: Since there are only 2 candies, we buy both of them. There is not a third\n",
    "candy we can take for free.\n",
    "Hence, the minimum cost to buy all candies is 5 + 5 = 10.\n",
    "\n",
    "Constraints:\n",
    "\n",
    "    * 1 <= cost.length <= 100\n",
    "    * 1 <= cost[i] <= 100"
   ]
  },
  {
   "cell_type": "code",
   "execution_count": 42,
   "metadata": {},
   "outputs": [],
   "source": [
    "import heapq\n",
    "\n",
    "def solution(costs):\n",
    "    costs = sorted(costs)\n",
    "    total_cost = 0\n",
    "    i = len(costs) -1\n",
    "    while i >= 0:\n",
    "        if i >=2:\n",
    "            total_cost += costs[i] + costs[i -1]\n",
    "            i = i - 3\n",
    "        else:\n",
    "            total_cost += costs[i]\n",
    "            i = i - 1\n",
    "    return total_cost"
   ]
  },
  {
   "cell_type": "code",
   "execution_count": 43,
   "metadata": {},
   "outputs": [
    {
     "data": {
      "text/plain": [
       "23"
      ]
     },
     "execution_count": 43,
     "metadata": {},
     "output_type": "execute_result"
    }
   ],
   "source": [
    "solution([6,5,7,9,2,2])\n"
   ]
  },
  {
   "cell_type": "code",
   "execution_count": 21,
   "metadata": {},
   "outputs": [],
   "source": [
    "assert solution([1,2,3]) == 5"
   ]
  },
  {
   "cell_type": "code",
   "execution_count": 22,
   "metadata": {},
   "outputs": [],
   "source": [
    "assert solution([5,5]) == 10"
   ]
  },
  {
   "cell_type": "markdown",
   "metadata": {},
   "source": [
    "complexity = O(nlogn) + O(n)"
   ]
  }
 ],
 "metadata": {
  "kernelspec": {
   "display_name": "Python 3.7.9 64-bit ('dev')",
   "language": "python",
   "name": "python3"
  },
  "language_info": {
   "codemirror_mode": {
    "name": "ipython",
    "version": 3
   },
   "file_extension": ".py",
   "mimetype": "text/x-python",
   "name": "python",
   "nbconvert_exporter": "python",
   "pygments_lexer": "ipython3",
   "version": "3.7.9"
  },
  "orig_nbformat": 4,
  "vscode": {
   "interpreter": {
    "hash": "4950a621ca8dbe919be2d5eef5279a3b94042d0ab49226e0e63e1276ca2aa67c"
   }
  }
 },
 "nbformat": 4,
 "nbformat_minor": 2
}
