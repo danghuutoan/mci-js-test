{
 "cells": [
  {
   "cell_type": "code",
   "execution_count": 28,
   "metadata": {},
   "outputs": [],
   "source": [
    "def solution(s):\n",
    "    input = s.split(':')\n",
    "    col1, row1 = input[0]\n",
    "    col2, row2 = input[1]\n",
    "    for col in range(ord(col1), ord(col2) + 1):\n",
    "        for row in range(int(row1), int(row2) + 1):\n",
    "            print(f\"{chr(col)}{row}\")\n"
   ]
  },
  {
   "cell_type": "code",
   "execution_count": 29,
   "metadata": {},
   "outputs": [
    {
     "name": "stdout",
     "output_type": "stream",
     "text": [
      "K\n",
      "K:1\n",
      "K:2\n",
      "L\n",
      "L:1\n",
      "L:2\n"
     ]
    }
   ],
   "source": [
    "solution(\"K1:L2\")"
   ]
  }
 ],
 "metadata": {
  "kernelspec": {
   "display_name": "Python 3.7.9 64-bit ('dev')",
   "language": "python",
   "name": "python3"
  },
  "language_info": {
   "codemirror_mode": {
    "name": "ipython",
    "version": 3
   },
   "file_extension": ".py",
   "mimetype": "text/x-python",
   "name": "python",
   "nbconvert_exporter": "python",
   "pygments_lexer": "ipython3",
   "version": "3.7.9"
  },
  "orig_nbformat": 4,
  "vscode": {
   "interpreter": {
    "hash": "4950a621ca8dbe919be2d5eef5279a3b94042d0ab49226e0e63e1276ca2aa67c"
   }
  }
 },
 "nbformat": 4,
 "nbformat_minor": 2
}
