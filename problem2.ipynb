{
 "cells": [
  {
   "cell_type": "markdown",
   "metadata": {},
   "source": [
    "Problem 2: Minimum Sum of Four Digit Number After Splitting Digits\n",
    "You are given a positive integer num consisting of exactly four digits. Split num into two\n",
    "new integers new1 and new2 by using the digits found in num. Leading zeros are\n",
    "allowed in new1 and new2, and all the digits found in num must be used.\n",
    "• For example, given num = 2932, you have the following digits: two 2's, one 9 and\n",
    "one 3. Some of the possible pairs [new1, new2] are [22, 93], [23, 92], [223,\n",
    "9] and [2, 329].\n",
    "Return the minimum possible sum of new1 and new2.\n",
    "Example 1:\n",
    "Input: num = 2932\n",
    "Output: 52\n",
    "Explanation: Some possible pairs [new1, new2] are [29, 23], [223, 9], etc.\n",
    "The minimum sum can be obtained by the pair [29, 23]: 29 + 23 = 52.\n",
    "\n",
    "Example 2:\n",
    "Input: num = 4009\n",
    "Output: 13\n",
    "Explanation: Some possible pairs [new1, new2] are [0, 49], [490, 0], etc.\n",
    "The minimum sum can be obtained by the pair [4, 9]: 4 + 9 = 13.\n",
    "\n",
    "Constraints:\n",
    "• 1000 <= num <= 9999"
   ]
  },
  {
   "cell_type": "code",
   "execution_count": 15,
   "metadata": {},
   "outputs": [],
   "source": [
    "def solution(num: int):\n",
    "    num = [int(x) for x in str(num)]\n",
    "    num = sorted(num)\n",
    "    return 10*(num[0]+ num[1]) + num[2] + num[3] "
   ]
  },
  {
   "cell_type": "code",
   "execution_count": 17,
   "metadata": {},
   "outputs": [],
   "source": [
    "res = solution(2932)\n",
    "assert res == 52"
   ]
  },
  {
   "cell_type": "code",
   "execution_count": 18,
   "metadata": {},
   "outputs": [],
   "source": [
    "res = solution(4009)\n",
    "assert res == 13"
   ]
  },
  {
   "cell_type": "code",
   "execution_count": 19,
   "metadata": {},
   "outputs": [],
   "source": [
    "res = solution(1000)\n",
    "assert res == 1"
   ]
  },
  {
   "cell_type": "code",
   "execution_count": 21,
   "metadata": {},
   "outputs": [],
   "source": [
    "res = solution(9999)\n",
    "assert res == 198"
   ]
  },
  {
   "cell_type": "markdown",
   "metadata": {},
   "source": [
    "assumming that the sort argorithm is used so the cost for sorting is O(nlogn)\n",
    "the cost for convert the decimal to an array of intergers is O(n) \n",
    "therefore\n",
    "complexity = O(n) + O(nlog(n)) >> O(nlog(n)) "
   ]
  }
 ],
 "metadata": {
  "kernelspec": {
   "display_name": "Python 3.7.9 64-bit ('dev')",
   "language": "python",
   "name": "python3"
  },
  "language_info": {
   "codemirror_mode": {
    "name": "ipython",
    "version": 3
   },
   "file_extension": ".py",
   "mimetype": "text/x-python",
   "name": "python",
   "nbconvert_exporter": "python",
   "pygments_lexer": "ipython3",
   "version": "3.7.9"
  },
  "orig_nbformat": 4,
  "vscode": {
   "interpreter": {
    "hash": "4950a621ca8dbe919be2d5eef5279a3b94042d0ab49226e0e63e1276ca2aa67c"
   }
  }
 },
 "nbformat": 4,
 "nbformat_minor": 2
}
