{
 "cells": [
  {
   "cell_type": "markdown",
   "metadata": {},
   "source": [
    "Problem 1: Find Closest Number to Zero\n",
    "Given an integer array nums of size n, return the number with the\n",
    "value closest to 0 in nums. If there are multiple answers, return the number with\n",
    "the largest value.\n",
    "Example 1:\n",
    "Input: nums = [-4,-2,1,4,8]\n",
    "Output: 1\n",
    "Explanation:\n",
    "The distance from -4 to 0 is |-4| = 4.\n",
    "The distance from -2 to 0 is |-2| = 2.\n",
    "The distance from 1 to 0 is |1| = 1.\n",
    "The distance from 4 to 0 is |4| = 4.\n",
    "The distance from 8 to 0 is |8| = 8.\n",
    "Thus, the closest number to 0 in the array is 1.\n",
    "Example 2:\n",
    "Input: nums = [2,-1,1]\n",
    "Output: 1\n",
    "Explanation: 1 and -1 are both the closest numbers to 0, so 1 being larger is returned.\n",
    "\n",
    "Constraints:\n",
    "• 1 <= n <= 1000\n",
    "• -105 <= nums[i] <= 105"
   ]
  },
  {
   "cell_type": "code",
   "execution_count": 6,
   "metadata": {},
   "outputs": [],
   "source": [
    "def problem1(nums):\n",
    "    result = nums[0]\n",
    "    for num in nums:\n",
    "        if num == 0:\n",
    "            return 0\n",
    "\n",
    "        if abs(num) < abs(result) or (abs(num) == abs(result) and num > result):\n",
    "            result = num \n",
    "    \n",
    "    return result\n"
   ]
  },
  {
   "cell_type": "code",
   "execution_count": 11,
   "metadata": {},
   "outputs": [],
   "source": [
    "\n",
    "nums = [-4,-2,1,4,8]\n",
    "result = problem1(nums)\n",
    "assert result == 1"
   ]
  },
  {
   "cell_type": "code",
   "execution_count": 21,
   "metadata": {},
   "outputs": [],
   "source": [
    "nums = [2,-1,3]\n",
    "result = problem1(nums)\n",
    "assert result == -1"
   ]
  },
  {
   "cell_type": "code",
   "execution_count": 12,
   "metadata": {},
   "outputs": [],
   "source": [
    "nums = [2,-1,1]\n",
    "result = problem1(nums)\n",
    "assert result == 1"
   ]
  },
  {
   "cell_type": "code",
   "execution_count": 13,
   "metadata": {},
   "outputs": [],
   "source": [
    "nums = [1]\n",
    "result = problem1(nums)\n",
    "assert result == 1"
   ]
  },
  {
   "cell_type": "code",
   "execution_count": 17,
   "metadata": {},
   "outputs": [
    {
     "data": {
      "text/plain": [
       "1000"
      ]
     },
     "execution_count": 17,
     "metadata": {},
     "output_type": "execute_result"
    }
   ],
   "source": [
    "nums = [105]*999\n",
    "nums.append(0)\n",
    "len(nums)\n"
   ]
  },
  {
   "cell_type": "code",
   "execution_count": 20,
   "metadata": {},
   "outputs": [],
   "source": [
    "result = problem1(nums)\n",
    "assert result == 0"
   ]
  },
  {
   "cell_type": "markdown",
   "metadata": {},
   "source": [
    "complexity O(n)"
   ]
  }
 ],
 "metadata": {
  "kernelspec": {
   "display_name": "Python 3.7.9 64-bit ('dev')",
   "language": "python",
   "name": "python3"
  },
  "language_info": {
   "codemirror_mode": {
    "name": "ipython",
    "version": 3
   },
   "file_extension": ".py",
   "mimetype": "text/x-python",
   "name": "python",
   "nbconvert_exporter": "python",
   "pygments_lexer": "ipython3",
   "version": "3.7.9"
  },
  "orig_nbformat": 4,
  "vscode": {
   "interpreter": {
    "hash": "4950a621ca8dbe919be2d5eef5279a3b94042d0ab49226e0e63e1276ca2aa67c"
   }
  }
 },
 "nbformat": 4,
 "nbformat_minor": 2
}
